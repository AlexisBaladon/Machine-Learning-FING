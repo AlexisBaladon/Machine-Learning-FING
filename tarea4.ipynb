{
 "cells": [
  {
   "cell_type": "markdown",
   "metadata": {},
   "source": [
    "### 2.1 Preprocesado\n",
    "\n",
    "Primeramente, se elimina el nombre de la ciudad y país \n",
    "\n",
    "-- hablar de la eliminacion de ciudades, el pais y posicion 2021 y 2022, comentando pq lo hicimos.\n",
    "\n",
    "-- mencionar que las otras columnas que eliminaremos en los test se introduciran mas adelante."
   ]
  },
  {
   "cell_type": "markdown",
   "metadata": {},
   "source": [
    "### 2.2 Metaparametros\n",
    "\n",
    "-- explicar los metaparametros"
   ]
  },
  {
   "cell_type": "markdown",
   "metadata": {},
   "source": [
    "### 2.3 Metodo de inicializacion"
   ]
  },
  {
   "cell_type": "markdown",
   "metadata": {},
   "source": [
    "### 2.4 Manejo de cluster vacios en kmeans\n",
    "\n",
    "exlicar que nos quedamos con el de menor distancia al centroide vacio y re asignamos"
   ]
  },
  {
   "cell_type": "markdown",
   "metadata": {},
   "source": [
    "## 3 Experimentos\n",
    "\n",
    "### 3.1 \n"
   ]
  },
  {
   "cell_type": "code",
   "execution_count": null,
   "metadata": {},
   "outputs": [],
   "source": [
    "from test import Test\n",
    "\n",
    "test = Test()\n",
    "dataset = [] #TODO: funcion para traer dataset\n",
    "#retrieve_spam_dataset()\n",
    "test."
   ]
  },
  {
   "cell_type": "markdown",
   "metadata": {},
   "source": [
    "# Clustering y PCA sobre dataset de work-life balance\n",
    "\n",
    "## Laboratorio 2022 - Tarea 4\n",
    "\n",
    "### Grupo 27\n",
    "\n",
    "Alexis Baladón, CI: 5.574.612-4\n",
    "\n",
    "Ignacio Viscardi, CI: 5.066.666-2\n",
    "\n",
    "Rafael Castelli, CI: 5.079.391-2"
   ]
  },
  {
   "cell_type": "markdown",
   "metadata": {},
   "source": [
    "## Requisitos para reproducción de algoritmo\n",
    "\n",
    "Para correr el presente notebook se deberán instalar las siguientes dependencias. Queda un script para su instalación automática."
   ]
  },
  {
   "cell_type": "code",
   "execution_count": null,
   "metadata": {
    "vscode": {
     "languageId": "shellscript"
    }
   },
   "outputs": [],
   "source": [
    "!pip install -r requirements.txt"
   ]
  },
  {
   "cell_type": "markdown",
   "metadata": {},
   "source": [
    "# Clasificación de correos por medio de naive Bayes\n",
    "\n",
    "## Laboratorio 2022 - Tarea 3\n",
    "\n",
    "### Grupo 16\n",
    "\n",
    "Alexis Baladón, CI: 5.574.612-4\n",
    "\n",
    "Ignacio Viscardi, CI: 5.066.666-2\n",
    "\n",
    "Rafael Castelli, CI: 5.079.391-2"
   ]
  },
  {
   "cell_type": "markdown",
   "metadata": {},
   "source": [
    "## 2. Decisiones de diseño\n",
    "\n",
    "La finalidad de esta sección consiste en introducir las principales decisiones de diseño tomadas para esta implementación de K-means."
   ]
  },
  {
   "cell_type": "markdown",
   "metadata": {},
   "source": [
    "### 2.2 Metaparametros\n",
    "\n",
    "-- explicar los metaparametros"
   ]
  },
  {
   "cell_type": "markdown",
   "metadata": {},
   "source": [
    "### 2.4 Manejo de cluster vacios en kmeans\n",
    "\n",
    "exlicar que nos quedamos con el de menor distancia al centroide vacio y re asignamos"
   ]
  },
  {
   "cell_type": "code",
   "execution_count": null,
   "metadata": {},
   "outputs": [],
   "source": [
    "from test import Test\n",
    "\n",
    "test = Test()\n",
    "dataset = [] #TODO: funcion para traer dataset\n",
    "#retrieve_spam_dataset()\n",
    "test."
   ]
  },
  {
   "cell_type": "markdown",
   "metadata": {},
   "source": [
    "## 4 Conclusiones\n",
    "\n",
    "## 4.1 Resultados según expectativas iniciales\n",
    " Joya"
   ]
  }
 ],
 "metadata": {
  "kernelspec": {
   "display_name": "Python 3.9.6 64-bit",
   "language": "python",
   "name": "python3"
  },
  "language_info": {
   "codemirror_mode": {
    "name": "ipython",
    "version": 3
   },
   "file_extension": ".py",
   "mimetype": "text/x-python",
   "name": "python",
   "nbconvert_exporter": "python",
   "pygments_lexer": "ipython3",
   "version": "3.9.6"
  },
  "vscode": {
   "interpreter": {
    "hash": "53667c57391f6f41ec0cffca61ef10e39dbb8eb5ca36071cf290d88307e8dbaa"
   }
  }
 },
 "nbformat": 4,
 "nbformat_minor": 2
}
