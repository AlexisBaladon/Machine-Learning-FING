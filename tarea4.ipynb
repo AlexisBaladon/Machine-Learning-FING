{
 "cells": [
  {
   "cell_type": "markdown",
   "metadata": {},
   "source": [
    "# Clustering y PCA sobre dataset de work-life balance\n",
    "\n",
    "## Laboratorio 2022 - Tarea 4\n",
    "\n",
    "### Grupo 27\n",
    "\n",
    "Alexis Baladón, CI: 5.574.612-4\n",
    "\n",
    "Ignacio Viscardi, CI: 5.066.666-2\n",
    "\n",
    "Rafael Castelli, CI: 5.079.391-2"
   ]
  },
  {
   "cell_type": "markdown",
   "metadata": {},
   "source": [
    "## Requisitos para reproducción de algoritmo\n",
    "\n",
    "Para correr el presente notebook se deberán instalar las siguientes dependencias. Queda un script para su instalación automática."
   ]
  },
  {
   "cell_type": "code",
   "execution_count": null,
   "metadata": {
    "vscode": {
     "languageId": "shellscript"
    }
   },
   "outputs": [],
   "source": [
    "!pip install -r requirements.txt"
   ]
  },
  {
   "cell_type": "markdown",
   "metadata": {},
   "source": [
    "## 2. Decisiones de diseño\n",
    "\n",
    "La finalidad de esta sección consiste en introducir las principales decisiones de diseño tomadas para esta implementación de K-means."
   ]
  },
  {
   "cell_type": "markdown",
   "metadata": {},
   "source": [
    "### 2.1 Preprocesado\n",
    "\n",
    "Primeramente, se elimina el nombre de la ciudad y país del conjunto de datos. Esto se hace debido a que ambos son atributos categóricos, por lo que sería necesaria una técnica como one-hot encoding para trabajar sobre ellos, pudiendo tener efectos indeseados al calcular la distancia euclídea (especialmente al normalizar los datos) debido a la maldición de la dimensionalidad. Más aún, no fueron considerados relevantes para medir el work-life balance.\n",
    "Por otra parte, también se eliminó la columna 2021 y 2022 ya que estos atributos no parecen ser relevantes para el problema en cuestión, además de ser identificadores únicos de cada tupla.\n",
    "\n",
    "En la seccion 3 (Experimentación) se mencionarán, cuando se considere adecuado, otras variables que fueron eliminadas del conjunto de datos para realizar los experimentos pertinentes."
   ]
  },
  {
   "cell_type": "markdown",
   "metadata": {},
   "source": [
    "### 2.2 Metaparametros\n",
    "\n",
    "-- explicar los metaparametros"
   ]
  },
  {
   "cell_type": "markdown",
   "metadata": {},
   "source": [
    "### 2.3 Metodo de inicialización\n",
    "Se consideraron 2 métodos de inicialización para los centroides del algoritmo K-means. Uno de ellos realiza una selección aleatoria de K elementos del espacio de posibles elementos (se considera que un elemento x esta en el espacio de posibles elementos si para cada coordenada su valor es menor o igual que el maximo valor, en valor absoluto, que puede tomar dicha coordenada en el dataset provisto).\n",
    "\n",
    "El otro método de inicialización considerado consiste en tomar k elementos del cluster (al azar) como centroides iniciales. Según lo visto en el teórico del curso, este método debería tener mejores propiedades de convergencia y \n",
    "\n",
    "#TODO: demostrar convergencia de ambos métodos"
   ]
  },
  {
   "cell_type": "markdown",
   "metadata": {},
   "source": [
    "### 2.4 Manejo de cluster vacios en kmeans\n",
    "\n",
    "exlicar que nos quedamos con el de menor distancia al centroide vacio y re asignamos"
   ]
  },
  {
   "cell_type": "markdown",
   "metadata": {},
   "source": [
    "## 3 Experimentos\n",
    "\n",
    "### 3.1 Sin normalizacion\n"
   ]
  },
  {
   "cell_type": "markdown",
   "metadata": {},
   "source": [
    "Prerequisitos:"
   ]
  },
  {
   "cell_type": "code",
   "execution_count": null,
   "metadata": {},
   "outputs": [],
   "source": [
    "import preprocessing\n",
    "import constants\n",
    "import os\n",
    "from test import Test\n",
    "\n",
    "original_df = preprocessing.load_csv()\n",
    "minimal_preprocess_df = preprocessing.minimal_preprocess(original_df)\n",
    "df = preprocessing.preprocess(original_df, shouldNormalize=False)\n",
    "test = Test()\n",
    "k_values = list(range(1, constants.MAX_K_PLUS_1))"
   ]
  },
  {
   "cell_type": "markdown",
   "metadata": {},
   "source": [
    "Eigenvalues (Escala lineal)"
   ]
  },
  {
   "cell_type": "code",
   "execution_count": null,
   "metadata": {},
   "outputs": [],
   "source": [
    "test.PCA_eigen_values(minimal_preprocess_df,scale=\"linear\")"
   ]
  },
  {
   "cell_type": "markdown",
   "metadata": {},
   "source": [
    "Eigenvalues (Escala logaritmica)"
   ]
  },
  {
   "cell_type": "code",
   "execution_count": null,
   "metadata": {},
   "outputs": [],
   "source": [
    "test.PCA_eigen_values(minimal_preprocess_df,scale=\"log\")"
   ]
  },
  {
   "cell_type": "markdown",
   "metadata": {},
   "source": [
    "covariance_matrix"
   ]
  },
  {
   "cell_type": "code",
   "execution_count": null,
   "metadata": {},
   "outputs": [],
   "source": [
    "test.abs_covariance_matrix(minimal_preprocess_df)"
   ]
  },
  {
   "cell_type": "markdown",
   "metadata": {},
   "source": [
    "correlation matrix"
   ]
  },
  {
   "cell_type": "code",
   "execution_count": null,
   "metadata": {},
   "outputs": [],
   "source": [
    "test.abs_correlation_matrix(minimal_preprocess_df)"
   ]
  },
  {
   "cell_type": "markdown",
   "metadata": {},
   "source": [
    "Correlation matrix (non minimal)"
   ]
  },
  {
   "cell_type": "code",
   "execution_count": null,
   "metadata": {},
   "outputs": [],
   "source": [
    "test.abs_correlation_matrix(df)"
   ]
  },
  {
   "cell_type": "code",
   "execution_count": null,
   "metadata": {},
   "outputs": [],
   "source": [
    "test.cutpoint_abs_correlation_matrix(df, cutpoint=0.60)"
   ]
  },
  {
   "cell_type": "markdown",
   "metadata": {},
   "source": [
    "Healthcare y mental healthcare \"a ojo\" relacionados y la gráfica lo confirma => Tirar  mental healthcare\n",
    "\n",
    "Minumun_vacations_offered y vacations_taken => quedarte con vacations_taken\n",
    "\n",
    "Covid impact mas de 0,7 correlacion con unemployment => sacamos covid impact\n",
    "\n",
    "inclusivity_and_tolerance => No muy relacionado con WLB y con correlación de más de 0,6 con overworked population (muy relacionado con WLB) entonces se puede borrar"
   ]
  },
  {
   "cell_type": "markdown",
   "metadata": {},
   "source": [
    "Elbow method"
   ]
  },
  {
   "cell_type": "code",
   "execution_count": null,
   "metadata": {},
   "outputs": [],
   "source": [
    "test.test_elbow_method(dataset=df,k_values=k_values,cpu_count=os.cpu_count())"
   ]
  },
  {
   "cell_type": "markdown",
   "metadata": {},
   "source": [
    "silhouette"
   ]
  },
  {
   "cell_type": "code",
   "execution_count": null,
   "metadata": {},
   "outputs": [],
   "source": [
    "k_values = [x for x in range(2, constants.MAX_K_PLUS_1)]\n",
    "test.test_silhouette(k_values=k_values, dataset=df, cpu_count=os.cpu_count())"
   ]
  },
  {
   "cell_type": "markdown",
   "metadata": {},
   "source": [
    "PCA 2D"
   ]
  },
  {
   "cell_type": "code",
   "execution_count": null,
   "metadata": {},
   "outputs": [],
   "source": [
    "import preprocessing\n",
    "import constants\n",
    "from test import Test\n",
    "\n",
    "\n",
    "original_df = preprocessing.load_csv()\n",
    "df = preprocessing.preprocess(original_df, shouldNormalize=False)\n",
    "test = Test()\n",
    "test.PCA_graph(df,original_df,dimensions=2,number_of_clusters=4)"
   ]
  },
  {
   "cell_type": "markdown",
   "metadata": {},
   "source": [
    "### 3.2 Con normalizacion (copiar y pegar todo lo anterior)"
   ]
  },
  {
   "cell_type": "code",
   "execution_count": null,
   "metadata": {},
   "outputs": [],
   "source": [
    "import preprocessing\n",
    "import constants\n",
    "import os\n",
    "from test import Test\n",
    "\n",
    "\n",
    "original_df = preprocessing.load_csv()\n",
    "df = preprocessing.preprocess(original_df, shouldNormalize=True)\n",
    "test = Test()\n",
    "k_values = [x for x in range(1, constants.MAX_K_PLUS_1)]\n",
    "test.test_elbow_method(dataset=df,k_values=k_values,cpu_count=os.cpu_count())"
   ]
  },
  {
   "cell_type": "markdown",
   "metadata": {},
   "source": [
    "#3.3 Visualización con PCA\n",
    "\n",
    "PCA es un método de reducción de dimensionalidad haciendo uso de la covarianza entre los atributos del conjunto de datos con el fin de reducir solo las dimensiones que menos la afecten."
   ]
  },
  {
   "cell_type": "markdown",
   "metadata": {},
   "source": [
    "#3.3.1 PCA 2D"
   ]
  },
  {
   "cell_type": "code",
   "execution_count": 16,
   "metadata": {},
   "outputs": [
    {
     "name": "stderr",
     "output_type": "stream",
     "text": [
      "/home/rafael/Documents/FING/8semestre/aprendizaje_automatico/lab/4/aprendaut_tarea_4/test.py:169: FutureWarning: Automatic reindexing on DataFrame vs Series comparisons is deprecated and will raise ValueError in a future version. Do `left, right = left.align(right, axis=1, copy=False)` before e.g. `left == right`\n",
      "  query_df = original_df.query(\"city == @city and country == @country\")\n"
     ]
    },
    {
     "data": {
      "image/png": "[encoded data removed]",
      "text/plain": [
       "<Figure size 432x288 with 1 Axes>"
      ]
     },
     "metadata": {
      "needs_background": "light"
     },
     "output_type": "display_data"
    }
   ],
   "source": [
    "import preprocessing\n",
    "import constants\n",
    "from test import Test\n",
    "\n",
    "\n",
    "original_df = preprocessing.load_csv()\n",
    "df = preprocessing.preprocess(original_df, shouldNormalize=True)\n",
    "test = Test()\n",
    "test.PCA_graph(df,original_df,dimensions=2,number_of_clusters=2)"
   ]
  },
  {
   "cell_type": "markdown",
   "metadata": {},
   "source": [
    "Analizando estos resultados se ve con claridad que existen puntos que aparentan pertenecer a distintos clusters. En particular, existe un conjunto de datos del lado izquierdo que parecen estar altamente relacionados, lo cual el algoritmo logra captar agrupando a todos. Por otro lado, se agrupa en otro cluster a ciudades que parecen estar relacionadas (aunque no tanto como en el conjunto antes mencionado), además de agrupar a datos que parecerían ser ruidosos. Esto parece indicar que el algoritmo logra cumplir con su objetivo, al igual que da a conocer propiedades difíciles de ver a simple vista."
   ]
  },
  {
   "cell_type": "markdown",
   "metadata": {},
   "source": [
    "#3.3.2 PCA 3D"
   ]
  },
  {
   "cell_type": "code",
   "execution_count": null,
   "metadata": {},
   "outputs": [],
   "source": []
  },
  {
   "cell_type": "markdown",
   "metadata": {},
   "source": [
    "Se analiza adicionalmente la versión tridimensional de PCA, la cual tiene la ventaja de la bidimensional en cuanto a su fácil visualización además de la menor pérdida de información."
   ]
  },
  {
   "cell_type": "code",
   "execution_count": null,
   "metadata": {},
   "outputs": [],
   "source": [
    "import preprocessing\n",
    "import constants\n",
    "from test import Test\n",
    "\n",
    "\n",
    "original_df = preprocessing.load_csv()\n",
    "df = preprocessing.preprocess(original_df, shouldNormalize=True)\n",
    "test = Test()\n",
    "for  cluster_k in [2,4]:\n",
    "    test.PCA_graph(df,original_df,dimensions=3,number_of_clusters=cluster_k)"
   ]
  },
  {
   "cell_type": "code",
   "execution_count": null,
   "metadata": {},
   "outputs": [],
   "source": [
    "import preprocessing\n",
    "import constants\n",
    "from test import Test\n",
    "\n",
    "\n",
    "original_df = preprocessing.load_csv()\n",
    "df = preprocessing.preprocess(original_df, shouldNormalize=True)\n",
    "test = Test()"
   ]
  },
  {
   "cell_type": "markdown",
   "metadata": {},
   "source": [
    "Al estudiar los datos en tres dimensiones no parece haber mucha diferencia, "
   ]
  },
  {
   "cell_type": "markdown",
   "metadata": {},
   "source": [
    "## 4 Conclusiones\n",
    "\n",
    "## 4.1 Resultados según expectativas iniciales\n",
    " Joya"
   ]
  }
 ],
 "metadata": {
  "kernelspec": {
   "display_name": "Python 3.10.7 64-bit",
   "language": "python",
   "name": "python3"
  },
  "language_info": {
   "codemirror_mode": {
    "name": "ipython",
    "version": 3
   },
   "file_extension": ".py",
   "mimetype": "text/x-python",
   "name": "python",
   "nbconvert_exporter": "python",
   "pygments_lexer": "ipython3",
   "version": "3.10.7"
  },
  "vscode": {
   "interpreter": {
    "hash": "e7370f93d1d0cde622a1f8e1c04877d8463912d04d973331ad4851f04de6915a"
   }
  }
 },
 "nbformat": 4,
 "nbformat_minor": 2
}
