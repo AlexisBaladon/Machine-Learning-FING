{
 "cells": [
  {
   "cell_type": "markdown",
   "metadata": {},
   "source": [
    "# Clustering y PCA sobre dataset de work-life balance\n",
    "\n",
    "## Laboratorio 2022 - Tarea 4\n",
    "\n",
    "### Grupo 27\n",
    "\n",
    "Alexis Baladón, CI: 5.574.612-4\n",
    "\n",
    "Ignacio Viscardi, CI: 5.066.666-2\n",
    "\n",
    "Rafael Castelli, CI: 5.079.391-2"
   ]
  },
  {
   "cell_type": "markdown",
   "metadata": {},
   "source": [
    "## Requisitos para reproducción de algoritmo\n",
    "\n",
    "Para correr el presente notebook se deberán instalar las siguientes dependencias. Queda un script para su instalación automática."
   ]
  },
  {
   "cell_type": "code",
   "execution_count": null,
   "metadata": {
    "vscode": {
     "languageId": "shellscript"
    }
   },
   "outputs": [],
   "source": [
    "!pip install -r requirements.txt"
   ]
  },
  {
   "cell_type": "markdown",
   "metadata": {},
   "source": [
    "## 2. Decisiones de diseño\n",
    "\n",
    "La finalidad de esta sección consiste en introducir las principales decisiones de diseño tomadas para esta implementación de K-means."
   ]
  },
  {
   "cell_type": "markdown",
   "metadata": {},
   "source": [
    "### 2.1 Preprocesado\n",
    "\n",
    "Primeramente, se elimina el nombre de la ciudad y país del dataset. Esto se hace debido a que a que ambos atributos son strings por lo que al menos que realicemos alguna tecnica como one-hot encoding no seriamos capaces de utilizarlo con el algoritmo K-means, ademas no se consideran relevantes para medir el work-life balance.\n",
    "Por otra parte, también se eliminó la columna 2021 y 2022 ya que estos atributos no parecen ser relevantes para el problema en cuestión.\n",
    "\n",
    "En la seccion 3 (Experimentación) se mencionarán, cuando se considere adecuado, otras variables que fueron eliminadas del conjunto de datos para realizar los experimentos pertinentes."
   ]
  },
  {
   "cell_type": "markdown",
   "metadata": {},
   "source": [
    "### 2.2 Metaparametros\n",
    "\n",
    "-- explicar los metaparametros"
   ]
  },
  {
   "cell_type": "markdown",
   "metadata": {},
   "source": [
    "### 2.3 Metodo de inicialización\n",
    "Se consideraron 2 métodos de inicialización para los centroides del algoritmo K-means. Uno de ellos realiza una selección aleatoria de K elemento del espacio de posibles elementos (se considera que un elemento x esta en el espacio de posibles elementos si para cada coordenada su valor es menor o igual que el maximo valor, en valor absoluto, que puede tomar dicha coordenada en el dataset provisto)\n",
    "elementos del dataset para que sean los centroides iniciales, mientras que el otro"
   ]
  },
  {
   "cell_type": "markdown",
   "metadata": {},
   "source": [
    "### 2.4 Manejo de cluster vacios en kmeans\n",
    "\n",
    "exlicar que nos quedamos con el de menor distancia al centroide vacio y re asignamos"
   ]
  },
  {
   "cell_type": "markdown",
   "metadata": {},
   "source": [
    "## 3 Experimentos\n",
    "\n",
    "### 3.1 Sin normalizacion\n"
   ]
  },
  {
   "cell_type": "markdown",
   "metadata": {},
   "source": [
    "Prerequisitos:"
   ]
  },
  {
   "cell_type": "code",
   "execution_count": null,
   "metadata": {},
   "outputs": [],
   "source": [
    "import preprocessing\n",
    "import constants\n",
    "import os\n",
    "from test import Test\n",
    "\n",
    "\n",
    "original_df = preprocessing.load_csv()\n",
    "df = preprocessing.preprocess(original_df, shouldNormalize=False)\n",
    "test = Test()\n",
    "k_values = [x for x in range(1, constants.MAX_K_PLUS_1)]\n"
   ]
  },
  {
   "cell_type": "markdown",
   "metadata": {},
   "source": [
    "Elbow method"
   ]
  },
  {
   "cell_type": "code",
   "execution_count": null,
   "metadata": {},
   "outputs": [],
   "source": [
    "test.test_elbow_method(dataset=df,k_values=k_values,cpu_count=os.cpu_count())"
   ]
  },
  {
   "cell_type": "markdown",
   "metadata": {},
   "source": [
    "silhouette"
   ]
  },
  {
   "cell_type": "code",
   "execution_count": null,
   "metadata": {},
   "outputs": [],
   "source": [
    "k_values = [x for x in range(2, constants.MAX_K_PLUS_1)]\n",
    "test.test_silhouette(k_values=k_values, dataset=df, cpu_count=os.cpu_count())"
   ]
  },
  {
   "cell_type": "markdown",
   "metadata": {},
   "source": [
    "### 3.2 Con normalizacion (copiar y pegar todo lo anterior)"
   ]
  },
  {
   "cell_type": "code",
   "execution_count": null,
   "metadata": {},
   "outputs": [],
   "source": [
    "import preprocessing\n",
    "import constants\n",
    "import os\n",
    "from test import Test\n",
    "\n",
    "\n",
    "original_df = preprocessing.load_csv()\n",
    "df = preprocessing.preprocess(original_df, shouldNormalize=True)\n",
    "test = Test()\n",
    "k_values = [x for x in range(1, constants.MAX_K_PLUS_1)]\n",
    "test.test_elbow_method(dataset=df,k_values=k_values,cpu_count=os.cpu_count())"
   ]
  },
  {
   "cell_type": "markdown",
   "metadata": {},
   "source": [
    "## 4 Conclusiones\n",
    "\n",
    "## 4.1 Resultados según expectativas iniciales\n",
    " Joya"
   ]
  }
 ],
 "metadata": {
  "kernelspec": {
   "display_name": "Python 3.10.7 64-bit",
   "language": "python",
   "name": "python3"
  },
  "language_info": {
   "codemirror_mode": {
    "name": "ipython",
    "version": 3
   },
   "file_extension": ".py",
   "mimetype": "text/x-python",
   "name": "python",
   "nbconvert_exporter": "python",
   "pygments_lexer": "ipython3",
   "version": "3.10.7"
  },
  "vscode": {
   "interpreter": {
    "hash": "e7370f93d1d0cde622a1f8e1c04877d8463912d04d973331ad4851f04de6915a"
   }
  }
 },
 "nbformat": 4,
 "nbformat_minor": 2
}
